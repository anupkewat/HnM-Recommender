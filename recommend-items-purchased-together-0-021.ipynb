{
 "cells": [
  {
   "cell_type": "code",
   "execution_count": 1,
   "id": "6f358e05",
   "metadata": {
    "execution": {
     "iopub.execute_input": "2022-02-21T03:22:10.300845Z",
     "iopub.status.busy": "2022-02-21T03:22:10.300156Z",
     "iopub.status.idle": "2022-02-21T03:22:13.781265Z",
     "shell.execute_reply": "2022-02-21T03:22:13.780468Z",
     "shell.execute_reply.started": "2022-02-20T02:54:42.216493Z"
    },
    "papermill": {
     "duration": 3.503013,
     "end_time": "2022-02-21T03:22:13.781431",
     "exception": false,
     "start_time": "2022-02-21T03:22:10.278418",
     "status": "completed"
    },
    "tags": []
   },
   "outputs": [
    {
     "name": "stdout",
     "output_type": "stream",
     "text": [
      "RAPIDS version 21.10.01\n"
     ]
    }
   ],
   "source": [
    "import cudf\n",
    "print('RAPIDS version',cudf.__version__)"
   ]
  },
  {
   "cell_type": "code",
   "execution_count": 2,
   "id": "150f2fdb",
   "metadata": {
    "execution": {
     "iopub.execute_input": "2022-02-21T03:22:13.841806Z",
     "iopub.status.busy": "2022-02-21T03:22:13.841234Z",
     "iopub.status.idle": "2022-02-21T03:22:53.451761Z",
     "shell.execute_reply": "2022-02-21T03:22:53.451080Z",
     "shell.execute_reply.started": "2022-02-20T02:54:45.802481Z"
    },
    "papermill": {
     "duration": 39.629448,
     "end_time": "2022-02-21T03:22:53.451919",
     "exception": false,
     "start_time": "2022-02-21T03:22:13.822471",
     "status": "completed"
    },
    "tags": []
   },
   "outputs": [
    {
     "name": "stdout",
     "output_type": "stream",
     "text": [
      "(31788324, 3)\n"
     ]
    },
    {
     "data": {
      "text/html": [
       "<div>\n",
       "<style scoped>\n",
       "    .dataframe tbody tr th:only-of-type {\n",
       "        vertical-align: middle;\n",
       "    }\n",
       "\n",
       "    .dataframe tbody tr th {\n",
       "        vertical-align: top;\n",
       "    }\n",
       "\n",
       "    .dataframe thead th {\n",
       "        text-align: right;\n",
       "    }\n",
       "</style>\n",
       "<table border=\"1\" class=\"dataframe\">\n",
       "  <thead>\n",
       "    <tr style=\"text-align: right;\">\n",
       "      <th></th>\n",
       "      <th>t_dat</th>\n",
       "      <th>customer_id</th>\n",
       "      <th>article_id</th>\n",
       "    </tr>\n",
       "  </thead>\n",
       "  <tbody>\n",
       "    <tr>\n",
       "      <th>0</th>\n",
       "      <td>2018-09-20</td>\n",
       "      <td>-6846340800584936</td>\n",
       "      <td>663713001</td>\n",
       "    </tr>\n",
       "    <tr>\n",
       "      <th>1</th>\n",
       "      <td>2018-09-20</td>\n",
       "      <td>-6846340800584936</td>\n",
       "      <td>541518023</td>\n",
       "    </tr>\n",
       "    <tr>\n",
       "      <th>2</th>\n",
       "      <td>2018-09-20</td>\n",
       "      <td>-8334631767138808638</td>\n",
       "      <td>505221004</td>\n",
       "    </tr>\n",
       "    <tr>\n",
       "      <th>3</th>\n",
       "      <td>2018-09-20</td>\n",
       "      <td>-8334631767138808638</td>\n",
       "      <td>685687003</td>\n",
       "    </tr>\n",
       "    <tr>\n",
       "      <th>4</th>\n",
       "      <td>2018-09-20</td>\n",
       "      <td>-8334631767138808638</td>\n",
       "      <td>685687004</td>\n",
       "    </tr>\n",
       "  </tbody>\n",
       "</table>\n",
       "</div>"
      ],
      "text/plain": [
       "       t_dat          customer_id  article_id\n",
       "0 2018-09-20    -6846340800584936   663713001\n",
       "1 2018-09-20    -6846340800584936   541518023\n",
       "2 2018-09-20 -8334631767138808638   505221004\n",
       "3 2018-09-20 -8334631767138808638   685687003\n",
       "4 2018-09-20 -8334631767138808638   685687004"
      ]
     },
     "execution_count": 2,
     "metadata": {},
     "output_type": "execute_result"
    }
   ],
   "source": [
    "train = cudf.read_csv('../input/h-and-m-personalized-fashion-recommendations/transactions_train.csv')\n",
    "train['customer_id'] = train['customer_id'].str[-16:].str.hex_to_int().astype('int64')\n",
    "train['article_id'] = train.article_id.astype('int32')\n",
    "train.t_dat = cudf.to_datetime(train.t_dat)\n",
    "train = train[['t_dat','customer_id','article_id']]\n",
    "train.to_parquet('train.pqt',index=False)\n",
    "print( train.shape )\n",
    "train.head()"
   ]
  },
  {
   "attachments": {},
   "cell_type": "markdown",
   "id": "66df6c2d",
   "metadata": {
    "papermill": {
     "duration": 0.01429,
     "end_time": "2022-02-21T03:22:53.481166",
     "exception": false,
     "start_time": "2022-02-21T03:22:53.466876",
     "status": "completed"
    },
    "tags": []
   },
   "source": [
    "# Find Each Customer's Last Week of Purchases\n"
   ]
  },
  {
   "cell_type": "code",
   "execution_count": 3,
   "id": "f0ed058d",
   "metadata": {
    "execution": {
     "iopub.execute_input": "2022-02-21T03:22:53.516505Z",
     "iopub.status.busy": "2022-02-21T03:22:53.515834Z",
     "iopub.status.idle": "2022-02-21T03:22:53.694123Z",
     "shell.execute_reply": "2022-02-21T03:22:53.694511Z",
     "shell.execute_reply.started": "2022-02-20T02:55:25.311925Z"
    },
    "papermill": {
     "duration": 0.199411,
     "end_time": "2022-02-21T03:22:53.694658",
     "exception": false,
     "start_time": "2022-02-21T03:22:53.495247",
     "status": "completed"
    },
    "tags": []
   },
   "outputs": [
    {
     "name": "stdout",
     "output_type": "stream",
     "text": [
      "Train shape: (5181535, 5)\n"
     ]
    }
   ],
   "source": [
    "tmp = train.groupby('customer_id').t_dat.max().reset_index()\n",
    "tmp.columns = ['customer_id','max_dat']\n",
    "train = train.merge(tmp,on=['customer_id'],how='left')\n",
    "train['diff_dat'] = (train.max_dat - train.t_dat).dt.days\n",
    "train = train.loc[train['diff_dat']<=6]\n",
    "print('Train shape:',train.shape)"
   ]
  },
  {
   "cell_type": "code",
   "execution_count": 4,
   "id": "1e26606b",
   "metadata": {
    "execution": {
     "iopub.execute_input": "2022-02-21T03:22:53.762836Z",
     "iopub.status.busy": "2022-02-21T03:22:53.762058Z",
     "iopub.status.idle": "2022-02-21T03:22:54.031596Z",
     "shell.execute_reply": "2022-02-21T03:22:54.031995Z",
     "shell.execute_reply.started": "2022-02-20T02:55:25.498521Z"
    },
    "papermill": {
     "duration": 0.291279,
     "end_time": "2022-02-21T03:22:54.032142",
     "exception": false,
     "start_time": "2022-02-21T03:22:53.740863",
     "status": "completed"
    },
    "tags": []
   },
   "outputs": [
    {
     "data": {
      "text/html": [
       "<div>\n",
       "<style scoped>\n",
       "    .dataframe tbody tr th:only-of-type {\n",
       "        vertical-align: middle;\n",
       "    }\n",
       "\n",
       "    .dataframe tbody tr th {\n",
       "        vertical-align: top;\n",
       "    }\n",
       "\n",
       "    .dataframe thead th {\n",
       "        text-align: right;\n",
       "    }\n",
       "</style>\n",
       "<table border=\"1\" class=\"dataframe\">\n",
       "  <thead>\n",
       "    <tr style=\"text-align: right;\">\n",
       "      <th></th>\n",
       "      <th>t_dat</th>\n",
       "      <th>customer_id</th>\n",
       "      <th>article_id</th>\n",
       "      <th>max_dat</th>\n",
       "      <th>diff_dat</th>\n",
       "      <th>ct</th>\n",
       "    </tr>\n",
       "  </thead>\n",
       "  <tbody>\n",
       "    <tr>\n",
       "      <th>1132992</th>\n",
       "      <td>2019-07-16</td>\n",
       "      <td>2729025827381139556</td>\n",
       "      <td>719348003</td>\n",
       "      <td>2019-07-16</td>\n",
       "      <td>0</td>\n",
       "      <td>100</td>\n",
       "    </tr>\n",
       "    <tr>\n",
       "      <th>63299</th>\n",
       "      <td>2018-10-04</td>\n",
       "      <td>4485518665254175540</td>\n",
       "      <td>557247001</td>\n",
       "      <td>2018-10-04</td>\n",
       "      <td>0</td>\n",
       "      <td>86</td>\n",
       "    </tr>\n",
       "    <tr>\n",
       "      <th>2148934</th>\n",
       "      <td>2020-03-06</td>\n",
       "      <td>-906958334866810496</td>\n",
       "      <td>852521001</td>\n",
       "      <td>2020-03-06</td>\n",
       "      <td>0</td>\n",
       "      <td>81</td>\n",
       "    </tr>\n",
       "    <tr>\n",
       "      <th>3392992</th>\n",
       "      <td>2020-07-06</td>\n",
       "      <td>3601599666106972342</td>\n",
       "      <td>685813001</td>\n",
       "      <td>2020-07-06</td>\n",
       "      <td>0</td>\n",
       "      <td>80</td>\n",
       "    </tr>\n",
       "    <tr>\n",
       "      <th>853856</th>\n",
       "      <td>2019-05-14</td>\n",
       "      <td>-4601407992705575197</td>\n",
       "      <td>695545001</td>\n",
       "      <td>2019-05-14</td>\n",
       "      <td>0</td>\n",
       "      <td>80</td>\n",
       "    </tr>\n",
       "  </tbody>\n",
       "</table>\n",
       "</div>"
      ],
      "text/plain": [
       "             t_dat          customer_id  article_id    max_dat  diff_dat   ct\n",
       "1132992 2019-07-16  2729025827381139556   719348003 2019-07-16         0  100\n",
       "63299   2018-10-04  4485518665254175540   557247001 2018-10-04         0   86\n",
       "2148934 2020-03-06  -906958334866810496   852521001 2020-03-06         0   81\n",
       "3392992 2020-07-06  3601599666106972342   685813001 2020-07-06         0   80\n",
       "853856  2019-05-14 -4601407992705575197   695545001 2019-05-14         0   80"
      ]
     },
     "execution_count": 4,
     "metadata": {},
     "output_type": "execute_result"
    }
   ],
   "source": [
    "tmp = train.groupby(['customer_id','article_id'])['t_dat'].agg('count').reset_index()\n",
    "tmp.columns = ['customer_id','article_id','ct']\n",
    "train = train.merge(tmp,on=['customer_id','article_id'],how='left')\n",
    "train = train.sort_values(['ct','t_dat'],ascending=False)\n",
    "train = train.drop_duplicates(['customer_id','article_id'])\n",
    "train = train.sort_values(['ct','t_dat'],ascending=False)\n",
    "train.head()"
   ]
  },
  {
   "cell_type": "code",
   "execution_count": 5,
   "id": "522ea238",
   "metadata": {
    "execution": {
     "iopub.execute_input": "2022-02-21T03:22:54.098631Z",
     "iopub.status.busy": "2022-02-21T03:22:54.097548Z",
     "iopub.status.idle": "2022-02-21T03:22:54.631455Z",
     "shell.execute_reply": "2022-02-21T03:22:54.630480Z",
     "shell.execute_reply.started": "2022-02-20T02:55:25.77994Z"
    },
    "papermill": {
     "duration": 0.553924,
     "end_time": "2022-02-21T03:22:54.631595",
     "exception": false,
     "start_time": "2022-02-21T03:22:54.077671",
     "status": "completed"
    },
    "tags": []
   },
   "outputs": [],
   "source": [
    "# USE PANDAS TO MAP COLUMN WITH DICTIONARY\n",
    "import pandas as pd, numpy as np\n",
    "train = train.to_pandas()\n",
    "pairs = np.load('../input/hmitempairs/pairs_cudf.npy',allow_pickle=True).item()\n",
    "train['article_id2'] = train.article_id.map(pairs)"
   ]
  },
  {
   "cell_type": "code",
   "execution_count": 6,
   "id": "6a131c54",
   "metadata": {
    "execution": {
     "iopub.execute_input": "2022-02-21T03:22:54.700415Z",
     "iopub.status.busy": "2022-02-21T03:22:54.699166Z",
     "iopub.status.idle": "2022-02-21T03:22:56.039765Z",
     "shell.execute_reply": "2022-02-21T03:22:56.040864Z",
     "shell.execute_reply.started": "2022-02-20T02:55:26.337365Z"
    },
    "papermill": {
     "duration": 1.393878,
     "end_time": "2022-02-21T03:22:56.041115",
     "exception": false,
     "start_time": "2022-02-21T03:22:54.647237",
     "status": "completed"
    },
    "tags": []
   },
   "outputs": [],
   "source": [
    "# RECOMMENDATION OF PAIRED ITEMS\n",
    "train2 = train[['customer_id','article_id2']].copy()\n",
    "train2 = train2.loc[train2.article_id2.notnull()]\n",
    "train2 = train2.drop_duplicates(['customer_id','article_id2'])\n",
    "train2 = train2.rename({'article_id2':'article_id'},axis=1)"
   ]
  },
  {
   "cell_type": "code",
   "execution_count": 7,
   "id": "5401a3ea",
   "metadata": {
    "execution": {
     "iopub.execute_input": "2022-02-21T03:22:56.108223Z",
     "iopub.status.busy": "2022-02-21T03:22:56.107455Z",
     "iopub.status.idle": "2022-02-21T03:22:58.228924Z",
     "shell.execute_reply": "2022-02-21T03:22:58.228465Z",
     "shell.execute_reply.started": "2022-02-20T02:55:27.629002Z"
    },
    "papermill": {
     "duration": 2.158594,
     "end_time": "2022-02-21T03:22:58.229051",
     "exception": false,
     "start_time": "2022-02-21T03:22:56.070457",
     "status": "completed"
    },
    "tags": []
   },
   "outputs": [],
   "source": [
    "# CONCATENATE PAIRED ITEM RECOMMENDATION AFTER PREVIOUS PURCHASED RECOMMENDATIONS\n",
    "train = train[['customer_id','article_id']]\n",
    "train = pd.concat([train,train2],axis=0,ignore_index=True)\n",
    "train.article_id = train.article_id.astype('int32')\n",
    "train = train.drop_duplicates(['customer_id','article_id'])"
   ]
  },
  {
   "cell_type": "code",
   "execution_count": 8,
   "id": "721a0173",
   "metadata": {
    "execution": {
     "iopub.execute_input": "2022-02-21T03:23:07.285060Z",
     "iopub.status.busy": "2022-02-21T03:23:07.103812Z",
     "iopub.status.idle": "2022-02-21T03:23:10.613441Z",
     "shell.execute_reply": "2022-02-21T03:23:10.612987Z",
     "shell.execute_reply.started": "2022-02-20T02:55:29.603253Z"
    },
    "papermill": {
     "duration": 12.368604,
     "end_time": "2022-02-21T03:23:10.613568",
     "exception": false,
     "start_time": "2022-02-21T03:22:58.244964",
     "status": "completed"
    },
    "tags": []
   },
   "outputs": [
    {
     "data": {
      "text/html": [
       "<div>\n",
       "<style scoped>\n",
       "    .dataframe tbody tr th:only-of-type {\n",
       "        vertical-align: middle;\n",
       "    }\n",
       "\n",
       "    .dataframe tbody tr th {\n",
       "        vertical-align: top;\n",
       "    }\n",
       "\n",
       "    .dataframe thead th {\n",
       "        text-align: right;\n",
       "    }\n",
       "</style>\n",
       "<table border=\"1\" class=\"dataframe\">\n",
       "  <thead>\n",
       "    <tr style=\"text-align: right;\">\n",
       "      <th></th>\n",
       "      <th>customer_id</th>\n",
       "      <th>prediction</th>\n",
       "    </tr>\n",
       "  </thead>\n",
       "  <tbody>\n",
       "    <tr>\n",
       "      <th>0</th>\n",
       "      <td>-9223352921020755230</td>\n",
       "      <td>0673396002 0812167004 0706016001 0812167002</td>\n",
       "    </tr>\n",
       "    <tr>\n",
       "      <th>1</th>\n",
       "      <td>-9223343869995384291</td>\n",
       "      <td>0908292002 0910601003 0865929007 0903926002 0...</td>\n",
       "    </tr>\n",
       "    <tr>\n",
       "      <th>2</th>\n",
       "      <td>-9223321797620987725</td>\n",
       "      <td>0580600006 0610776035 0688018003 0610776002</td>\n",
       "    </tr>\n",
       "    <tr>\n",
       "      <th>3</th>\n",
       "      <td>-9223319430705797669</td>\n",
       "      <td>0470985003 0504155001 0554477005 0562245001 0...</td>\n",
       "    </tr>\n",
       "    <tr>\n",
       "      <th>4</th>\n",
       "      <td>-9223308614576639426</td>\n",
       "      <td>0750423005 0750423001</td>\n",
       "    </tr>\n",
       "  </tbody>\n",
       "</table>\n",
       "</div>"
      ],
      "text/plain": [
       "           customer_id                                         prediction\n",
       "0 -9223352921020755230        0673396002 0812167004 0706016001 0812167002\n",
       "1 -9223343869995384291   0908292002 0910601003 0865929007 0903926002 0...\n",
       "2 -9223321797620987725        0580600006 0610776035 0688018003 0610776002\n",
       "3 -9223319430705797669   0470985003 0504155001 0554477005 0562245001 0...\n",
       "4 -9223308614576639426                              0750423005 0750423001"
      ]
     },
     "execution_count": 8,
     "metadata": {},
     "output_type": "execute_result"
    }
   ],
   "source": [
    "# CONVERT RECOMMENDATIONS INTO SINGLE STRING\n",
    "train.article_id = ' 0' + train.article_id.astype('str')\n",
    "preds = cudf.DataFrame( train.groupby('customer_id').article_id.sum().reset_index() )\n",
    "preds.columns = ['customer_id','prediction']\n",
    "preds.head()"
   ]
  },
  {
   "attachments": {},
   "cell_type": "markdown",
   "id": "8ceec3eb",
   "metadata": {
    "papermill": {
     "duration": 0.01546,
     "end_time": "2022-02-21T03:23:10.644470",
     "exception": false,
     "start_time": "2022-02-21T03:23:10.629010",
     "status": "completed"
    },
    "tags": []
   },
   "source": [
    "\n",
    "After recommending previous purchases and items purchased together we will then recommend the 12 most popular items. Therefore if our previous recommendations did not fill up a customer's 12 recommendations, then it will be filled by popular items."
   ]
  },
  {
   "cell_type": "code",
   "execution_count": 9,
   "id": "42e794a9",
   "metadata": {
    "execution": {
     "iopub.execute_input": "2022-02-21T03:23:10.683514Z",
     "iopub.status.busy": "2022-02-21T03:23:10.682867Z",
     "iopub.status.idle": "2022-02-21T03:23:11.143593Z",
     "shell.execute_reply": "2022-02-21T03:23:11.144030Z",
     "shell.execute_reply.started": "2022-02-20T02:55:42.705679Z"
    },
    "papermill": {
     "duration": 0.484118,
     "end_time": "2022-02-21T03:23:11.144185",
     "exception": false,
     "start_time": "2022-02-21T03:23:10.660067",
     "status": "completed"
    },
    "tags": []
   },
   "outputs": [
    {
     "name": "stdout",
     "output_type": "stream",
     "text": [
      "Last week's top 12 popular items:\n",
      " 0924243001 0924243002 0918522001 0923758001 0866731001 0909370001 0751471001 0915529003 0915529005 0448509014 0762846027 0714790020\n"
     ]
    }
   ],
   "source": [
    "train = cudf.read_parquet('train.pqt')\n",
    "train.t_dat = cudf.to_datetime(train.t_dat)\n",
    "train = train.loc[train.t_dat >= cudf.to_datetime('2020-09-16')]\n",
    "top12 = ' 0' + ' 0'.join(train.article_id.value_counts().to_pandas().index.astype('str')[:12])\n",
    "print(\"Last week's top 12 popular items:\")\n",
    "print( top12 )"
   ]
  }
 ],
 "metadata": {
  "kernelspec": {
   "display_name": "Python 3",
   "language": "python",
   "name": "python3"
  },
  "language_info": {
   "codemirror_mode": {
    "name": "ipython",
    "version": 3
   },
   "file_extension": ".py",
   "mimetype": "text/x-python",
   "name": "python",
   "nbconvert_exporter": "python",
   "pygments_lexer": "ipython3",
   "version": "3.7.12"
  },
  "papermill": {
   "default_parameters": {},
   "duration": 73.907502,
   "end_time": "2022-02-21T03:23:16.487003",
   "environment_variables": {},
   "exception": null,
   "input_path": "__notebook__.ipynb",
   "output_path": "__notebook__.ipynb",
   "parameters": {},
   "start_time": "2022-02-21T03:22:02.579501",
   "version": "2.3.3"
  }
 },
 "nbformat": 4,
 "nbformat_minor": 5
}
